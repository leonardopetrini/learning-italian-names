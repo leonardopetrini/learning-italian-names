{
 "cells": [
  {
   "cell_type": "code",
   "execution_count": 1,
   "id": "ec76fe9f",
   "metadata": {},
   "outputs": [],
   "source": [
    "import torch\n",
    "import torch.nn.functional as F\n",
    "from torch import nn\n",
    "import matplotlib.pyplot as plt\n",
    "import random\n",
    "from itertools import product\n",
    "%matplotlib inline"
   ]
  },
  {
   "cell_type": "code",
   "execution_count": 2,
   "id": "f793d139",
   "metadata": {},
   "outputs": [],
   "source": [
    "def words_to_vocabulary(words):\n",
    "    \"\"\"\n",
    "        Build the vocabulary of characters and mappings to/from integers.\n",
    "    \"\"\"\n",
    "    chars = sorted(list(set(''.join(words))))\n",
    "    stoi = {s:i+1 for i,s in enumerate(chars)}\n",
    "    stoi['.'] = 0\n",
    "    itos = {i:s for s,i in stoi.items()}\n",
    "    return stoi, itos\n",
    "\n",
    "def build_dataset_from_words(words, n):\n",
    "    \"\"\"\n",
    "        Build a dataset of n-tuples from words where the x's are the first (n-1) elements in the tuples, and the y's are the last element.\n",
    "    :param list of str words: list of words.\n",
    "    :param int n: tuples length to consider.\n",
    "    \"\"\"\n",
    "    X, Y = [], []\n",
    "    for w in words:\n",
    "        context = [0] * (n-1)\n",
    "        for ch in w + '.':\n",
    "            ix = stoi[ch]\n",
    "            X.append(context)\n",
    "            Y.append(ix)\n",
    "            context = context[1:] + [ix] # crop and append\n",
    "\n",
    "    X = torch.tensor(X)\n",
    "    Y = torch.tensor(Y)\n",
    "    return X, Y\n",
    "\n",
    "class NGrams(nn.Module):\n",
    "    \"\"\"\n",
    "        Class for n-grams models in the style of PyTorch modules so that is has a forward pass.\n",
    "    \"\"\"\n",
    "    def __init__(self, words, n, smoothing=0):\n",
    "        super().__init__()\n",
    "        self.n = n\n",
    "        self.smoothing = smoothing\n",
    "        self.stoi, _ = words_to_vocabulary(words)\n",
    "        self.voc_len = len(self.stoi)\n",
    "        self.P = self._build_ngram_model(words, n, smoothing)\n",
    "\n",
    "    def _build_ngram_model(self, words, n, smoothing):\n",
    "        \"\"\"\n",
    "            Make counts of n-tuples in words.\n",
    "        :param list of str words: dataset of words.\n",
    "        :param int n: tuples length.\n",
    "        \"\"\"\n",
    "        voc_len = self.voc_len\n",
    "        n = self.n\n",
    "        \n",
    "        if n == 0:\n",
    "            return torch.ones(voc_len) / voc_len\n",
    "        N = torch.zeros([voc_len] * n, dtype=torch.int32)\n",
    "        for w in words:\n",
    "            chs = ['.'] * (n - 1) + list(w) + ['.']\n",
    "            for ch in zip(*[chs[i:] for i in range(n)]):\n",
    "                ix = [[self.stoi[c]] for c in ch]\n",
    "                N[ix] += 1\n",
    "        \n",
    "        P = N.float()\n",
    "        P += smoothing\n",
    "        P /= P.sum(-1, keepdims=True)\n",
    "        return P\n",
    "    \n",
    "    def forward(self, x):\n",
    "        if len(x[0]):\n",
    "            return self.P[x.t().split(1)][0]\n",
    "        else:\n",
    "            bs = len(x)\n",
    "            return self.P[None].repeat([bs, 1])\n",
    "\n",
    "def nll(proba, Y):\n",
    "    return proba[range(len(Y)), Y].log().mul(-1).mean().item()"
   ]
  },
  {
   "cell_type": "markdown",
   "id": "0c843313",
   "metadata": {},
   "source": [
    "Toy dataset"
   ]
  },
  {
   "cell_type": "code",
   "execution_count": 3,
   "id": "7fe3ecb1",
   "metadata": {},
   "outputs": [],
   "source": [
    "words = ['ab', 'bb', 'ba']"
   ]
  },
  {
   "cell_type": "code",
   "execution_count": 4,
   "id": "b51bd449",
   "metadata": {},
   "outputs": [
    {
     "name": "stdout",
     "output_type": "stream",
     "text": [
      "n=0,  smoothing=0,    train loss: 1.10,     test loss: 1.10\n",
      "n=0,  smoothing=1,    train loss: 1.10,     test loss: 1.10\n",
      "n=1,  smoothing=0,    train loss: 1.01,     test loss: 1.19\n",
      "n=1,  smoothing=1,    train loss: 1.02,     test loss: 1.14\n",
      "n=2,  smoothing=0,    train loss: 0.55,     test loss: inf\n",
      "n=2,  smoothing=1,    train loss: 0.84,     test loss: 1.36\n"
     ]
    }
   ],
   "source": [
    "ns = [0, 1, 2]\n",
    "smoothing_vals = [0, 1]\n",
    "\n",
    "for n, smoothing in product(ns, smoothing_vals):\n",
    "    m = NGrams(words[:-1], n=n, smoothing=smoothing)\n",
    "    stoi, itos = words_to_vocabulary(words)\n",
    "\n",
    "    Xtr, Ytr = build_dataset_from_words(words[:-1], n=n)\n",
    "    Xte, Yte = build_dataset_from_words([words[-1]], n=n)\n",
    "\n",
    "    otr = m(Xtr)\n",
    "    ote = m(Xte)\n",
    "\n",
    "    ltr, lte = nll(otr, Ytr), nll(ote, Yte)\n",
    "    \n",
    "    print(fr'{n=},  {smoothing=},    train loss: {ltr:<4.02f},     test loss: {lte:.02f}')"
   ]
  },
  {
   "cell_type": "markdown",
   "id": "3a0ca9b2",
   "metadata": {},
   "source": [
    "Print $P^{(2)}$ for 2-grams"
   ]
  },
  {
   "cell_type": "code",
   "execution_count": 5,
   "id": "77e26f3a",
   "metadata": {},
   "outputs": [],
   "source": [
    "m = NGrams(words[:-1], n=n, smoothing=smoothing)\n",
    "P = m.P"
   ]
  },
  {
   "cell_type": "code",
   "execution_count": 6,
   "id": "9dfd2177",
   "metadata": {},
   "outputs": [
    {
     "data": {
      "image/png": "[encoded data removed]",
      "text/plain": [
       "<Figure size 240x240 with 1 Axes>"
      ]
     },
     "metadata": {
      "needs_background": "light"
     },
     "output_type": "display_data"
    }
   ],
   "source": [
    "plt.figure(figsize=(2, 2), dpi=120)\n",
    "voc_len = len(stoi)\n",
    "plt.imshow(P, cmap='Blues')\n",
    "for i in range(voc_len):\n",
    "    for j in range(voc_len):\n",
    "        chstr = itos[i] + itos[j]\n",
    "        plt.text(j, i, chstr, ha=\"center\", va=\"bottom\", color='gray')\n",
    "        plt.text(j, i, f'{P[i, j].item():.02f}', ha=\"center\", va=\"top\", color='gray')\n",
    "plt.axis('off');"
   ]
  },
  {
   "cell_type": "markdown",
   "id": "681e74a2",
   "metadata": {},
   "source": [
    "Actual words"
   ]
  },
  {
   "cell_type": "code",
   "execution_count": 7,
   "id": "efe964f9",
   "metadata": {},
   "outputs": [],
   "source": [
    "# longer list of names (~9k). Some are not native Italian.\n",
    "words = open('names.txt', 'r').read().splitlines()\n",
    "\n",
    "# words preprocessing (fix accents, remove dotted names)\n",
    "words = [w for w in words if not ',' in w and not '.' in w and w != \"nicolo'\" and len(w) >= 3]\n",
    "for i in range(len(words)):\n",
    "    if \"‡\" in words[i]:\n",
    "        words[i] = words[i][:-1] + \"à\"\n",
    "    if \"˘\" in words[i]:\n",
    "        words[i] = words[i][:-1] + \"ù\"\n",
    "    if \"Ú\" in words[i]:\n",
    "        words[i] = words[i][:-1] + \"ò\"\n",
    "    if \"Ï\" in words[i]:\n",
    "        words[i] = words[i][:-1] + \"ì\"\n",
    "    if \"Ë\" in words[i]:\n",
    "        words[i] = words[i][:-1] + \"è\"\n",
    "stoi, itos = words_to_vocabulary(words)"
   ]
  },
  {
   "cell_type": "markdown",
   "id": "4abfb691",
   "metadata": {},
   "source": [
    "Compute train and test losses for n-grams and different smoothing values"
   ]
  },
  {
   "cell_type": "code",
   "execution_count": null,
   "id": "4372c32d",
   "metadata": {},
   "outputs": [
    {
     "name": "stdout",
     "output_type": "stream",
     "text": [
      "n=0,  smoothing=1e-08,    train loss: 3.50,     test loss: 3.50\n",
      "n=1,  smoothing=1e-08,    train loss: 2.73,     test loss: 2.73\n",
      "n=2,  smoothing=1e-08,    train loss: 2.17,     test loss: 2.18\n",
      "n=3,  smoothing=1e-08,    train loss: 1.89,     test loss: 2.01\n",
      "n=4,  smoothing=1e-08,    train loss: 1.53,     test loss: 2.42\n",
      "n=5,  smoothing=1e-08,    train loss: 1.26,     test loss: 2.93\n",
      "n=6,  smoothing=1e-08,    train loss: 1.15,     test loss: 3.36\n",
      "n=0,  smoothing=0.1  ,    train loss: 3.50,     test loss: 3.50\n",
      "n=1,  smoothing=0.1  ,    train loss: 2.73,     test loss: 2.73\n",
      "n=2,  smoothing=0.1  ,    train loss: 2.17,     test loss: 2.17\n"
     ]
    }
   ],
   "source": [
    "random.seed(42)\n",
    "random.shuffle(words)\n",
    "\n",
    "# train-test splitting size\n",
    "n1 = int(0.9*len(words))\n",
    "\n",
    "ltr, lte = [[], []], [[], []]\n",
    "smoothing_val = [1e-8, .1]\n",
    "\n",
    "for i, smoothing in enumerate(smoothing_val):\n",
    "    for n in range(7):\n",
    "        \n",
    "        m = NGrams(words[:n1], n=n, smoothing=smoothing)\n",
    "\n",
    "        Xtr, Ytr = build_dataset_from_words(words[:n1], n=n)\n",
    "        Xte, Yte = build_dataset_from_words(words[n1:], n=n)\n",
    "\n",
    "        otr = m(Xtr)\n",
    "        ote = m(Xte)\n",
    "\n",
    "        ltr[i].append(nll(otr, Ytr))\n",
    "        lte[i].append(nll(ote, Yte))\n",
    "        \n",
    "        print(fr'{n=},  {smoothing=:<5},    train loss: {ltr[i][-1]:<4.02f},     test loss: {lte[i][-1]:.02f}')"
   ]
  },
  {
   "cell_type": "code",
   "execution_count": null,
   "id": "e940e41a",
   "metadata": {},
   "outputs": [],
   "source": [
    "_, ax = plt.subplots(1, 2, figsize=(7, 2), dpi=150, sharey=True, sharex=True)\n",
    "for i, smoothing in enumerate(smoothing_val):\n",
    "    plt.sca(ax[i])\n",
    "    plt.title(f'{smoothing=}', fontsize=9)\n",
    "    plt.plot(ltr[i], c=f'C0', label='train loss', lw=2, alpha=.75)   # '--' if i else '-' if not i else None\n",
    "    plt.plot(lte[i], c=f'C1', label='test loss', lw=2, alpha=.75)   # '--' if i else '-' if not i else None\n",
    "    plt.xlabel('$n$', fontsize=15)\n",
    "    plt.legend()\n",
    "    if not i:\n",
    "        plt.ylabel('loss', fontsize=15)\n",
    "plt.tight_layout(pad=0)"
   ]
  }
 ],
 "metadata": {
  "kernelspec": {
   "display_name": "e2",
   "language": "python",
   "name": "e2"
  },
  "language_info": {
   "codemirror_mode": {
    "name": "ipython",
    "version": 3
   },
   "file_extension": ".py",
   "mimetype": "text/x-python",
   "name": "python",
   "nbconvert_exporter": "python",
   "pygments_lexer": "ipython3",
   "version": "3.10.4"
  }
 },
 "nbformat": 4,
 "nbformat_minor": 5
}
